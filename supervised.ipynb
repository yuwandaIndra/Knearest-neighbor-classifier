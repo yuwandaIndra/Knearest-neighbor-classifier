{
 "cells": [
  {
   "cell_type": "markdown",
   "metadata": {},
   "source": [
    "# Yuwanda Indra Gunawan\n",
    "# 14116001"
   ]
  },
  {
   "cell_type": "code",
   "execution_count": 1,
   "metadata": {},
   "outputs": [],
   "source": [
    "import pandas as pd\n",
    "import numpy as np\n",
    "import matplotlib.pyplot as plt\n",
    "\n",
    "from sklearn.neighbors import KNeighborsClassifier\n",
    "from sklearn.ensemble import RandomForestClassifier\n",
    "from sklearn.tree import DecisionTreeClassifier\n",
    "from sklearn.linear_model import SGDClassifier\n",
    "from sklearn.model_selection import train_test_split\n",
    "from sklearn.metrics import classification_report\n",
    "from sklearn.preprocessing import StandardScaler\n",
    "from sklearn.model_selection import RandomizedSearchCV, cross_val_score"
   ]
  },
  {
   "cell_type": "markdown",
   "metadata": {},
   "source": [
    "# membaca data"
   ]
  },
  {
   "cell_type": "code",
   "execution_count": 2,
   "metadata": {},
   "outputs": [],
   "source": [
    "df = pd.read_csv('winequality-white.csv', delimiter=';')"
   ]
  },
  {
   "cell_type": "code",
   "execution_count": 3,
   "metadata": {},
   "outputs": [
    {
     "data": {
      "text/html": [
       "<div>\n",
       "<style scoped>\n",
       "    .dataframe tbody tr th:only-of-type {\n",
       "        vertical-align: middle;\n",
       "    }\n",
       "\n",
       "    .dataframe tbody tr th {\n",
       "        vertical-align: top;\n",
       "    }\n",
       "\n",
       "    .dataframe thead th {\n",
       "        text-align: right;\n",
       "    }\n",
       "</style>\n",
       "<table border=\"1\" class=\"dataframe\">\n",
       "  <thead>\n",
       "    <tr style=\"text-align: right;\">\n",
       "      <th></th>\n",
       "      <th>fixed acidity</th>\n",
       "      <th>volatile acidity</th>\n",
       "      <th>citric acid</th>\n",
       "      <th>residual sugar</th>\n",
       "      <th>chlorides</th>\n",
       "      <th>free sulfur dioxide</th>\n",
       "      <th>total sulfur dioxide</th>\n",
       "      <th>density</th>\n",
       "      <th>pH</th>\n",
       "      <th>sulphates</th>\n",
       "      <th>alcohol</th>\n",
       "      <th>quality</th>\n",
       "    </tr>\n",
       "  </thead>\n",
       "  <tbody>\n",
       "    <tr>\n",
       "      <th>0</th>\n",
       "      <td>7.0</td>\n",
       "      <td>0.27</td>\n",
       "      <td>0.36</td>\n",
       "      <td>20.7</td>\n",
       "      <td>0.045</td>\n",
       "      <td>45.0</td>\n",
       "      <td>170.0</td>\n",
       "      <td>1.0010</td>\n",
       "      <td>3.00</td>\n",
       "      <td>0.45</td>\n",
       "      <td>8.8</td>\n",
       "      <td>6</td>\n",
       "    </tr>\n",
       "    <tr>\n",
       "      <th>1</th>\n",
       "      <td>6.3</td>\n",
       "      <td>0.30</td>\n",
       "      <td>0.34</td>\n",
       "      <td>1.6</td>\n",
       "      <td>0.049</td>\n",
       "      <td>14.0</td>\n",
       "      <td>132.0</td>\n",
       "      <td>0.9940</td>\n",
       "      <td>3.30</td>\n",
       "      <td>0.49</td>\n",
       "      <td>9.5</td>\n",
       "      <td>6</td>\n",
       "    </tr>\n",
       "    <tr>\n",
       "      <th>2</th>\n",
       "      <td>8.1</td>\n",
       "      <td>0.28</td>\n",
       "      <td>0.40</td>\n",
       "      <td>6.9</td>\n",
       "      <td>0.050</td>\n",
       "      <td>30.0</td>\n",
       "      <td>97.0</td>\n",
       "      <td>0.9951</td>\n",
       "      <td>3.26</td>\n",
       "      <td>0.44</td>\n",
       "      <td>10.1</td>\n",
       "      <td>6</td>\n",
       "    </tr>\n",
       "    <tr>\n",
       "      <th>3</th>\n",
       "      <td>7.2</td>\n",
       "      <td>0.23</td>\n",
       "      <td>0.32</td>\n",
       "      <td>8.5</td>\n",
       "      <td>0.058</td>\n",
       "      <td>47.0</td>\n",
       "      <td>186.0</td>\n",
       "      <td>0.9956</td>\n",
       "      <td>3.19</td>\n",
       "      <td>0.40</td>\n",
       "      <td>9.9</td>\n",
       "      <td>6</td>\n",
       "    </tr>\n",
       "    <tr>\n",
       "      <th>4</th>\n",
       "      <td>7.2</td>\n",
       "      <td>0.23</td>\n",
       "      <td>0.32</td>\n",
       "      <td>8.5</td>\n",
       "      <td>0.058</td>\n",
       "      <td>47.0</td>\n",
       "      <td>186.0</td>\n",
       "      <td>0.9956</td>\n",
       "      <td>3.19</td>\n",
       "      <td>0.40</td>\n",
       "      <td>9.9</td>\n",
       "      <td>6</td>\n",
       "    </tr>\n",
       "  </tbody>\n",
       "</table>\n",
       "</div>"
      ],
      "text/plain": [
       "   fixed acidity  volatile acidity  citric acid  residual sugar  chlorides  \\\n",
       "0            7.0              0.27         0.36            20.7      0.045   \n",
       "1            6.3              0.30         0.34             1.6      0.049   \n",
       "2            8.1              0.28         0.40             6.9      0.050   \n",
       "3            7.2              0.23         0.32             8.5      0.058   \n",
       "4            7.2              0.23         0.32             8.5      0.058   \n",
       "\n",
       "   free sulfur dioxide  total sulfur dioxide  density    pH  sulphates  \\\n",
       "0                 45.0                 170.0   1.0010  3.00       0.45   \n",
       "1                 14.0                 132.0   0.9940  3.30       0.49   \n",
       "2                 30.0                  97.0   0.9951  3.26       0.44   \n",
       "3                 47.0                 186.0   0.9956  3.19       0.40   \n",
       "4                 47.0                 186.0   0.9956  3.19       0.40   \n",
       "\n",
       "   alcohol  quality  \n",
       "0      8.8        6  \n",
       "1      9.5        6  \n",
       "2     10.1        6  \n",
       "3      9.9        6  \n",
       "4      9.9        6  "
      ]
     },
     "execution_count": 3,
     "metadata": {},
     "output_type": "execute_result"
    }
   ],
   "source": [
    "df.head()"
   ]
  },
  {
   "cell_type": "markdown",
   "metadata": {},
   "source": [
    "# Inisialisasi visual"
   ]
  },
  {
   "cell_type": "code",
   "execution_count": 4,
   "metadata": {
    "scrolled": false
   },
   "outputs": [
    {
     "data": {
      "image/png": "[encoded data removed]",
      "text/plain": [
       "<Figure size 432x288 with 1 Axes>"
      ]
     },
     "metadata": {
      "needs_background": "light"
     },
     "output_type": "display_data"
    },
    {
     "data": {
      "image/png": "[encoded data removed]",
      "text/plain": [
       "<Figure size 432x288 with 1 Axes>"
      ]
     },
     "metadata": {
      "needs_background": "light"
     },
     "output_type": "display_data"
    },
    {
     "data": {
      "image/png": "[encoded data removed]",
      "text/plain": [
       "<Figure size 432x288 with 1 Axes>"
      ]
     },
     "metadata": {
      "needs_background": "light"
     },
     "output_type": "display_data"
    },
    {
     "data": {
      "image/png": "[encoded data removed]",
      "text/plain": [
       "<Figure size 432x288 with 1 Axes>"
      ]
     },
     "metadata": {
      "needs_background": "light"
     },
     "output_type": "display_data"
    },
    {
     "data": {
      "image/png": "[encoded data removed]",
      "text/plain": [
       "<Figure size 432x288 with 1 Axes>"
      ]
     },
     "metadata": {
      "needs_background": "light"
     },
     "output_type": "display_data"
    },
    {
     "data": {
      "image/png": "[encoded data removed]",
      "text/plain": [
       "<Figure size 432x288 with 1 Axes>"
      ]
     },
     "metadata": {
      "needs_background": "light"
     },
     "output_type": "display_data"
    },
    {
     "data": {
      "image/png": "[encoded data removed]",
      "text/plain": [
       "<Figure size 432x288 with 1 Axes>"
      ]
     },
     "metadata": {
      "needs_background": "light"
     },
     "output_type": "display_data"
    },
    {
     "data": {
      "image/png": "[encoded data removed]",
      "text/plain": [
       "<Figure size 432x288 with 1 Axes>"
      ]
     },
     "metadata": {
      "needs_background": "light"
     },
     "output_type": "display_data"
    },
    {
     "data": {
      "image/png": "[encoded data removed]",
      "text/plain": [
       "<Figure size 432x288 with 1 Axes>"
      ]
     },
     "metadata": {
      "needs_background": "light"
     },
     "output_type": "display_data"
    },
    {
     "data": {
      "image/png": "[encoded data removed]",
      "text/plain": [
       "<Figure size 432x288 with 1 Axes>"
      ]
     },
     "metadata": {
      "needs_background": "light"
     },
     "output_type": "display_data"
    },
    {
     "data": {
      "image/png": "[encoded data removed]",
      "text/plain": [
       "<Figure size 432x288 with 1 Axes>"
      ]
     },
     "metadata": {
      "needs_background": "light"
     },
     "output_type": "display_data"
    }
   ],
   "source": [
    "for label in df.columns[:-1]:\n",
    "# for label in ['alcohol']:\n",
    "    plt.scatter(df['quality'], df[label])\n",
    "    plt.title(label)\n",
    "    plt.xlabel('quality')\n",
    "    plt.ylabel(label)\n",
    "    plt.savefig('imgs/'+'red'.join(label.split(' ')))\n",
    "    plt.show()\n"
   ]
  },
  {
   "cell_type": "markdown",
   "metadata": {},
   "source": [
    "# Mengumpulkan data latih dan pengujian"
   ]
  },
  {
   "cell_type": "code",
   "execution_count": 5,
   "metadata": {},
   "outputs": [],
   "source": [
    "# Karena angka 3-9 tidak terlalu berarti, maka di deklarasikan low(0), mid(1), dan high(2)\n",
    "bins = [0, 5.5, 7.5, 10] #di deklarasikan 3-5 rendah, 6-7 sedang, 8-9 tinggi\n",
    "labels = [0, 1, 2]\n",
    "df['quality'] = pd.cut(df['quality'], bins=bins, labels=labels)"
   ]
  },
  {
   "cell_type": "code",
   "execution_count": 6,
   "metadata": {},
   "outputs": [
    {
     "data": {
      "text/plain": [
       "0     1\n",
       "1     1\n",
       "2     1\n",
       "3     1\n",
       "4     1\n",
       "5     1\n",
       "6     1\n",
       "7     1\n",
       "8     1\n",
       "9     1\n",
       "10    0\n",
       "11    0\n",
       "12    0\n",
       "13    1\n",
       "14    0\n",
       "Name: quality, dtype: category\n",
       "Categories (3, int64): [0 < 1 < 2]"
      ]
     },
     "execution_count": 6,
     "metadata": {},
     "output_type": "execute_result"
    }
   ],
   "source": [
    "df['quality'].head(15)"
   ]
  },
  {
   "cell_type": "code",
   "execution_count": 7,
   "metadata": {},
   "outputs": [],
   "source": [
    "x = df[df.columns[:-1]]\n",
    "y = df['quality']\n",
    "sc = StandardScaler()\n",
    "x = sc.fit_transform(x)\n",
    "\n",
    "x_train, x_test, y_train, y_test = train_test_split(x, y, test_size=0.2, random_state=42)"
   ]
  },
  {
   "cell_type": "code",
   "execution_count": 8,
   "metadata": {},
   "outputs": [
    {
     "name": "stdout",
     "output_type": "stream",
     "text": [
      "count     3918\n",
      "unique       3\n",
      "top          1\n",
      "freq      2454\n",
      "Name: quality, dtype: int64\n",
      "count     980\n",
      "unique      3\n",
      "top         1\n",
      "freq      624\n",
      "Name: quality, dtype: int64\n"
     ]
    }
   ],
   "source": [
    "for data in [y_train, y_test]:\n",
    "    print(data.describe())"
   ]
  },
  {
   "cell_type": "markdown",
   "metadata": {},
   "source": [
    "# K Nearest Neighbors Classifier"
   ]
  },
  {
   "cell_type": "code",
   "execution_count": 9,
   "metadata": {},
   "outputs": [
    {
     "name": "stdout",
     "output_type": "stream",
     "text": [
      "              precision    recall  f1-score   support\n",
      "\n",
      "           0       0.62      0.62      0.62       321\n",
      "           1       0.77      0.79      0.78       624\n",
      "           2       0.39      0.26      0.31        35\n",
      "\n",
      "    accuracy                           0.72       980\n",
      "   macro avg       0.60      0.56      0.57       980\n",
      "weighted avg       0.71      0.72      0.71       980\n",
      "\n",
      "0.7292016806722689\n"
     ]
    }
   ],
   "source": [
    "n3 = KNeighborsClassifier(n_neighbors = 3)\n",
    "n3.fit(x_train, y_train)\n",
    "pred_n3 = n3.predict(x_test)\n",
    "print(classification_report(y_test, pred_n3))\n",
    "cross_val = cross_val_score(estimator=n3, X=x_train, y=y_train, cv=10)\n",
    "print(cross_val.mean())"
   ]
  },
  {
   "cell_type": "code",
   "execution_count": 10,
   "metadata": {},
   "outputs": [
    {
     "name": "stdout",
     "output_type": "stream",
     "text": [
      "              precision    recall  f1-score   support\n",
      "\n",
      "           0       0.64      0.59      0.62       321\n",
      "           1       0.76      0.82      0.79       624\n",
      "           2       0.33      0.11      0.17        35\n",
      "\n",
      "    accuracy                           0.72       980\n",
      "   macro avg       0.58      0.51      0.52       980\n",
      "weighted avg       0.71      0.72      0.71       980\n",
      "\n",
      "0.7225618508272874\n"
     ]
    }
   ],
   "source": [
    "n5 = KNeighborsClassifier(n_neighbors = 5)\n",
    "n5.fit(x_train, y_train)\n",
    "pred_n5 = n5.predict(x_test)\n",
    "print(classification_report(y_test, pred_n5))\n",
    "cross_val = cross_val_score(estimator=n5, X=x_train, y=y_train, cv=10)\n",
    "print(cross_val.mean())"
   ]
  },
  {
   "cell_type": "markdown",
   "metadata": {},
   "source": [
    "# Random Forest Classifier"
   ]
  },
  {
   "cell_type": "code",
   "execution_count": 11,
   "metadata": {},
   "outputs": [
    {
     "name": "stdout",
     "output_type": "stream",
     "text": [
      "              precision    recall  f1-score   support\n",
      "\n",
      "           0       0.80      0.74      0.77       321\n",
      "           1       0.85      0.90      0.87       624\n",
      "           2       1.00      0.43      0.60        35\n",
      "\n",
      "    accuracy                           0.83       980\n",
      "   macro avg       0.88      0.69      0.75       980\n",
      "weighted avg       0.84      0.83      0.83       980\n",
      "\n",
      "0.8044867947178872\n"
     ]
    }
   ],
   "source": [
    "rf = RandomForestClassifier()\n",
    "rf.fit(x_train, y_train)\n",
    "pred_rf = rf.predict(x_test)\n",
    "print(classification_report(y_test, pred_rf))\n",
    "cross_val = cross_val_score(estimator=rf, X=x_train, y=y_train, cv=10)\n",
    "print(cross_val.mean())"
   ]
  },
  {
   "cell_type": "markdown",
   "metadata": {},
   "source": [
    "# Decision Tree Classifier"
   ]
  },
  {
   "cell_type": "code",
   "execution_count": 12,
   "metadata": {},
   "outputs": [
    {
     "name": "stdout",
     "output_type": "stream",
     "text": [
      "              precision    recall  f1-score   support\n",
      "\n",
      "           0       0.69      0.67      0.68       321\n",
      "           1       0.81      0.81      0.81       624\n",
      "           2       0.38      0.49      0.42        35\n",
      "\n",
      "    accuracy                           0.75       980\n",
      "   macro avg       0.62      0.65      0.64       980\n",
      "weighted avg       0.75      0.75      0.75       980\n",
      "\n",
      "0.7365970301163943\n"
     ]
    }
   ],
   "source": [
    "dt = DecisionTreeClassifier()\n",
    "dt.fit(x_train, y_train)\n",
    "pred_dt = dt.predict(x_test)\n",
    "print(classification_report(y_test, pred_dt))\n",
    "cross_val = cross_val_score(estimator=dt, X=x_train, y=y_train, cv=10)\n",
    "print(cross_val.mean())"
   ]
  },
  {
   "cell_type": "markdown",
   "metadata": {},
   "source": [
    "# Stochastic Gradient Descent"
   ]
  },
  {
   "cell_type": "code",
   "execution_count": 13,
   "metadata": {},
   "outputs": [
    {
     "name": "stdout",
     "output_type": "stream",
     "text": [
      "              precision    recall  f1-score   support\n",
      "\n",
      "           0       0.69      0.25      0.37       321\n",
      "           1       0.68      0.94      0.79       624\n",
      "           2       0.00      0.00      0.00        35\n",
      "\n",
      "    accuracy                           0.68       980\n",
      "   macro avg       0.46      0.40      0.39       980\n",
      "weighted avg       0.66      0.68      0.63       980\n",
      "\n"
     ]
    },
    {
     "name": "stderr",
     "output_type": "stream",
     "text": [
      "C:\\ProgramData\\Anaconda3\\lib\\site-packages\\sklearn\\metrics\\_classification.py:1245: UndefinedMetricWarning: Precision and F-score are ill-defined and being set to 0.0 in labels with no predicted samples. Use `zero_division` parameter to control this behavior.\n",
      "  _warn_prf(average, modifier, msg_start, len(result))\n",
      "C:\\ProgramData\\Anaconda3\\lib\\site-packages\\sklearn\\metrics\\_classification.py:1245: UndefinedMetricWarning: Precision and F-score are ill-defined and being set to 0.0 in labels with no predicted samples. Use `zero_division` parameter to control this behavior.\n",
      "  _warn_prf(average, modifier, msg_start, len(result))\n",
      "C:\\ProgramData\\Anaconda3\\lib\\site-packages\\sklearn\\metrics\\_classification.py:1245: UndefinedMetricWarning: Precision and F-score are ill-defined and being set to 0.0 in labels with no predicted samples. Use `zero_division` parameter to control this behavior.\n",
      "  _warn_prf(average, modifier, msg_start, len(result))\n"
     ]
    },
    {
     "name": "stdout",
     "output_type": "stream",
     "text": [
      "0.7085207996241975\n"
     ]
    }
   ],
   "source": [
    "sgd = SGDClassifier()\n",
    "sgd.fit(x_train, y_train)\n",
    "pred_sgd = sgd.predict(x_test)\n",
    "print(classification_report(y_test, pred_sgd))\n",
    "cross_val = cross_val_score(estimator=sgd, X=x_train, y=y_train, cv=10)\n",
    "print(cross_val.mean())"
   ]
  },
  {
   "cell_type": "markdown",
   "metadata": {},
   "source": [
    "# Peningkatan hasil"
   ]
  },
  {
   "cell_type": "code",
   "execution_count": 17,
   "metadata": {},
   "outputs": [
    {
     "name": "stdout",
     "output_type": "stream",
     "text": [
      "Fitting 3 folds for each of 100 candidates, totalling 300 fits\n",
      "[CV] END bootstrap=True, max_depth=10, max_features=sqrt, min_samples_leaf=2, min_samples_split=10, n_estimators=1000; total time=   8.4s\n",
      "[CV] END bootstrap=True, max_depth=10, max_features=sqrt, min_samples_leaf=2, min_samples_split=10, n_estimators=1000; total time=   8.3s\n",
      "[CV] END bootstrap=True, max_depth=10, max_features=sqrt, min_samples_leaf=2, min_samples_split=10, n_estimators=1000; total time=   8.3s\n",
      "[CV] END bootstrap=True, max_depth=65, max_features=sqrt, min_samples_leaf=2, min_samples_split=2, n_estimators=577; total time=   5.8s\n",
      "[CV] END bootstrap=True, max_depth=65, max_features=sqrt, min_samples_leaf=2, min_samples_split=2, n_estimators=577; total time=   5.7s\n",
      "[CV] END bootstrap=True, max_depth=65, max_features=sqrt, min_samples_leaf=2, min_samples_split=2, n_estimators=577; total time=   5.7s\n",
      "[CV] END bootstrap=True, max_depth=None, max_features=auto, min_samples_leaf=2, min_samples_split=5, n_estimators=683; total time=   6.8s\n",
      "[CV] END bootstrap=True, max_depth=None, max_features=auto, min_samples_leaf=2, min_samples_split=5, n_estimators=683; total time=   6.8s\n",
      "[CV] END bootstrap=True, max_depth=None, max_features=auto, min_samples_leaf=2, min_samples_split=5, n_estimators=683; total time=   6.7s\n",
      "[CV] END bootstrap=True, max_depth=54, max_features=auto, min_samples_leaf=1, min_samples_split=2, n_estimators=50; total time=   0.4s\n",
      "[CV] END bootstrap=True, max_depth=54, max_features=auto, min_samples_leaf=1, min_samples_split=2, n_estimators=50; total time=   0.4s\n",
      "[CV] END bootstrap=True, max_depth=54, max_features=auto, min_samples_leaf=1, min_samples_split=2, n_estimators=50; total time=   0.4s\n",
      "[CV] END bootstrap=True, max_depth=21, max_features=sqrt, min_samples_leaf=2, min_samples_split=10, n_estimators=577; total time=   5.5s\n",
      "[CV] END bootstrap=True, max_depth=21, max_features=sqrt, min_samples_leaf=2, min_samples_split=10, n_estimators=577; total time=   5.5s\n",
      "[CV] END bootstrap=True, max_depth=21, max_features=sqrt, min_samples_leaf=2, min_samples_split=10, n_estimators=577; total time=   5.5s\n",
      "[CV] END bootstrap=True, max_depth=54, max_features=sqrt, min_samples_leaf=2, min_samples_split=5, n_estimators=788; total time=   7.8s\n",
      "[CV] END bootstrap=True, max_depth=54, max_features=sqrt, min_samples_leaf=2, min_samples_split=5, n_estimators=788; total time=   7.8s\n",
      "[CV] END bootstrap=True, max_depth=54, max_features=sqrt, min_samples_leaf=2, min_samples_split=5, n_estimators=788; total time=   7.8s\n",
      "[CV] END bootstrap=False, max_depth=76, max_features=sqrt, min_samples_leaf=1, min_samples_split=2, n_estimators=366; total time=   5.2s\n",
      "[CV] END bootstrap=False, max_depth=76, max_features=sqrt, min_samples_leaf=1, min_samples_split=2, n_estimators=366; total time=   5.1s\n",
      "[CV] END bootstrap=False, max_depth=76, max_features=sqrt, min_samples_leaf=1, min_samples_split=2, n_estimators=366; total time=   5.2s\n",
      "[CV] END bootstrap=True, max_depth=32, max_features=auto, min_samples_leaf=2, min_samples_split=5, n_estimators=894; total time=   9.0s\n",
      "[CV] END bootstrap=True, max_depth=32, max_features=auto, min_samples_leaf=2, min_samples_split=5, n_estimators=894; total time=   8.9s\n",
      "[CV] END bootstrap=True, max_depth=32, max_features=auto, min_samples_leaf=2, min_samples_split=5, n_estimators=894; total time=   8.9s\n",
      "[CV] END bootstrap=False, max_depth=54, max_features=sqrt, min_samples_leaf=2, min_samples_split=2, n_estimators=261; total time=   3.4s\n",
      "[CV] END bootstrap=False, max_depth=54, max_features=sqrt, min_samples_leaf=2, min_samples_split=2, n_estimators=261; total time=   3.4s\n",
      "[CV] END bootstrap=False, max_depth=54, max_features=sqrt, min_samples_leaf=2, min_samples_split=2, n_estimators=261; total time=   3.4s\n",
      "[CV] END bootstrap=False, max_depth=98, max_features=sqrt, min_samples_leaf=4, min_samples_split=5, n_estimators=472; total time=   5.8s\n",
      "[CV] END bootstrap=False, max_depth=98, max_features=sqrt, min_samples_leaf=4, min_samples_split=5, n_estimators=472; total time=   5.7s\n",
      "[CV] END bootstrap=False, max_depth=98, max_features=sqrt, min_samples_leaf=4, min_samples_split=5, n_estimators=472; total time=   5.7s\n",
      "[CV] END bootstrap=False, max_depth=87, max_features=auto, min_samples_leaf=1, min_samples_split=10, n_estimators=894; total time=  11.9s\n",
      "[CV] END bootstrap=False, max_depth=87, max_features=auto, min_samples_leaf=1, min_samples_split=10, n_estimators=894; total time=  11.9s\n",
      "[CV] END bootstrap=False, max_depth=87, max_features=auto, min_samples_leaf=1, min_samples_split=10, n_estimators=894; total time=  12.0s\n",
      "[CV] END bootstrap=False, max_depth=98, max_features=auto, min_samples_leaf=4, min_samples_split=2, n_estimators=1000; total time=  12.5s\n",
      "[CV] END bootstrap=False, max_depth=98, max_features=auto, min_samples_leaf=4, min_samples_split=2, n_estimators=1000; total time=  12.3s\n",
      "[CV] END bootstrap=False, max_depth=98, max_features=auto, min_samples_leaf=4, min_samples_split=2, n_estimators=1000; total time=  12.5s\n",
      "[CV] END bootstrap=False, max_depth=98, max_features=auto, min_samples_leaf=2, min_samples_split=10, n_estimators=1000; total time=  13.1s\n",
      "[CV] END bootstrap=False, max_depth=98, max_features=auto, min_samples_leaf=2, min_samples_split=10, n_estimators=1000; total time=  12.9s\n",
      "[CV] END bootstrap=False, max_depth=98, max_features=auto, min_samples_leaf=2, min_samples_split=10, n_estimators=1000; total time=  12.9s\n",
      "[CV] END bootstrap=True, max_depth=21, max_features=sqrt, min_samples_leaf=4, min_samples_split=10, n_estimators=472; total time=   4.3s\n",
      "[CV] END bootstrap=True, max_depth=21, max_features=sqrt, min_samples_leaf=4, min_samples_split=10, n_estimators=472; total time=   4.2s\n",
      "[CV] END bootstrap=True, max_depth=21, max_features=sqrt, min_samples_leaf=4, min_samples_split=10, n_estimators=472; total time=   4.3s\n",
      "[CV] END bootstrap=False, max_depth=98, max_features=sqrt, min_samples_leaf=1, min_samples_split=2, n_estimators=155; total time=   2.1s\n",
      "[CV] END bootstrap=False, max_depth=98, max_features=sqrt, min_samples_leaf=1, min_samples_split=2, n_estimators=155; total time=   2.1s\n",
      "[CV] END bootstrap=False, max_depth=98, max_features=sqrt, min_samples_leaf=1, min_samples_split=2, n_estimators=155; total time=   2.1s\n",
      "[CV] END bootstrap=False, max_depth=10, max_features=sqrt, min_samples_leaf=4, min_samples_split=10, n_estimators=1000; total time=  10.1s\n",
      "[CV] END bootstrap=False, max_depth=10, max_features=sqrt, min_samples_leaf=4, min_samples_split=10, n_estimators=1000; total time=  10.1s\n",
      "[CV] END bootstrap=False, max_depth=10, max_features=sqrt, min_samples_leaf=4, min_samples_split=10, n_estimators=1000; total time=  10.1s\n",
      "[CV] END bootstrap=False, max_depth=43, max_features=sqrt, min_samples_leaf=2, min_samples_split=5, n_estimators=50; total time=   0.6s\n",
      "[CV] END bootstrap=False, max_depth=43, max_features=sqrt, min_samples_leaf=2, min_samples_split=5, n_estimators=50; total time=   0.6s\n",
      "[CV] END bootstrap=False, max_depth=43, max_features=sqrt, min_samples_leaf=2, min_samples_split=5, n_estimators=50; total time=   0.6s\n",
      "[CV] END bootstrap=False, max_depth=76, max_features=auto, min_samples_leaf=2, min_samples_split=2, n_estimators=577; total time=   7.7s\n",
      "[CV] END bootstrap=False, max_depth=76, max_features=auto, min_samples_leaf=2, min_samples_split=2, n_estimators=577; total time=   7.6s\n",
      "[CV] END bootstrap=False, max_depth=76, max_features=auto, min_samples_leaf=2, min_samples_split=2, n_estimators=577; total time=   7.7s\n",
      "[CV] END bootstrap=False, max_depth=32, max_features=sqrt, min_samples_leaf=4, min_samples_split=5, n_estimators=683; total time=   8.5s\n",
      "[CV] END bootstrap=False, max_depth=32, max_features=sqrt, min_samples_leaf=4, min_samples_split=5, n_estimators=683; total time=   8.3s\n",
      "[CV] END bootstrap=False, max_depth=32, max_features=sqrt, min_samples_leaf=4, min_samples_split=5, n_estimators=683; total time=   8.4s\n",
      "[CV] END bootstrap=True, max_depth=76, max_features=sqrt, min_samples_leaf=1, min_samples_split=5, n_estimators=1000; total time=  10.4s\n",
      "[CV] END bootstrap=True, max_depth=76, max_features=sqrt, min_samples_leaf=1, min_samples_split=5, n_estimators=1000; total time=  10.4s\n",
      "[CV] END bootstrap=True, max_depth=76, max_features=sqrt, min_samples_leaf=1, min_samples_split=5, n_estimators=1000; total time=  10.4s\n"
     ]
    },
    {
     "name": "stdout",
     "output_type": "stream",
     "text": [
      "[CV] END bootstrap=True, max_depth=None, max_features=auto, min_samples_leaf=4, min_samples_split=5, n_estimators=472; total time=   4.3s\n",
      "[CV] END bootstrap=True, max_depth=None, max_features=auto, min_samples_leaf=4, min_samples_split=5, n_estimators=472; total time=   4.3s\n",
      "[CV] END bootstrap=True, max_depth=None, max_features=auto, min_samples_leaf=4, min_samples_split=5, n_estimators=472; total time=   4.3s\n",
      "[CV] END bootstrap=False, max_depth=32, max_features=auto, min_samples_leaf=4, min_samples_split=2, n_estimators=50; total time=   0.5s\n",
      "[CV] END bootstrap=False, max_depth=32, max_features=auto, min_samples_leaf=4, min_samples_split=2, n_estimators=50; total time=   0.5s\n",
      "[CV] END bootstrap=False, max_depth=32, max_features=auto, min_samples_leaf=4, min_samples_split=2, n_estimators=50; total time=   0.5s\n",
      "[CV] END bootstrap=True, max_depth=76, max_features=sqrt, min_samples_leaf=4, min_samples_split=2, n_estimators=155; total time=   1.4s\n",
      "[CV] END bootstrap=True, max_depth=76, max_features=sqrt, min_samples_leaf=4, min_samples_split=2, n_estimators=155; total time=   1.4s\n",
      "[CV] END bootstrap=True, max_depth=76, max_features=sqrt, min_samples_leaf=4, min_samples_split=2, n_estimators=155; total time=   1.3s\n",
      "[CV] END bootstrap=False, max_depth=98, max_features=sqrt, min_samples_leaf=2, min_samples_split=5, n_estimators=788; total time=  10.4s\n",
      "[CV] END bootstrap=False, max_depth=98, max_features=sqrt, min_samples_leaf=2, min_samples_split=5, n_estimators=788; total time=  10.3s\n",
      "[CV] END bootstrap=False, max_depth=98, max_features=sqrt, min_samples_leaf=2, min_samples_split=5, n_estimators=788; total time=  10.4s\n",
      "[CV] END bootstrap=False, max_depth=None, max_features=sqrt, min_samples_leaf=1, min_samples_split=2, n_estimators=50; total time=   0.6s\n",
      "[CV] END bootstrap=False, max_depth=None, max_features=sqrt, min_samples_leaf=1, min_samples_split=2, n_estimators=50; total time=   0.6s\n",
      "[CV] END bootstrap=False, max_depth=None, max_features=sqrt, min_samples_leaf=1, min_samples_split=2, n_estimators=50; total time=   0.6s\n",
      "[CV] END bootstrap=True, max_depth=21, max_features=sqrt, min_samples_leaf=1, min_samples_split=2, n_estimators=50; total time=   0.4s\n",
      "[CV] END bootstrap=True, max_depth=21, max_features=sqrt, min_samples_leaf=1, min_samples_split=2, n_estimators=50; total time=   0.4s\n",
      "[CV] END bootstrap=True, max_depth=21, max_features=sqrt, min_samples_leaf=1, min_samples_split=2, n_estimators=50; total time=   0.4s\n",
      "[CV] END bootstrap=False, max_depth=21, max_features=auto, min_samples_leaf=1, min_samples_split=5, n_estimators=894; total time=  12.3s\n",
      "[CV] END bootstrap=False, max_depth=21, max_features=auto, min_samples_leaf=1, min_samples_split=5, n_estimators=894; total time=  12.1s\n",
      "[CV] END bootstrap=False, max_depth=21, max_features=auto, min_samples_leaf=1, min_samples_split=5, n_estimators=894; total time=  12.2s\n",
      "[CV] END bootstrap=True, max_depth=98, max_features=sqrt, min_samples_leaf=4, min_samples_split=10, n_estimators=50; total time=   0.4s\n",
      "[CV] END bootstrap=True, max_depth=98, max_features=sqrt, min_samples_leaf=4, min_samples_split=10, n_estimators=50; total time=   0.4s\n",
      "[CV] END bootstrap=True, max_depth=98, max_features=sqrt, min_samples_leaf=4, min_samples_split=10, n_estimators=50; total time=   0.4s\n",
      "[CV] END bootstrap=True, max_depth=110, max_features=sqrt, min_samples_leaf=2, min_samples_split=2, n_estimators=577; total time=   5.8s\n",
      "[CV] END bootstrap=True, max_depth=110, max_features=sqrt, min_samples_leaf=2, min_samples_split=2, n_estimators=577; total time=   5.7s\n",
      "[CV] END bootstrap=True, max_depth=110, max_features=sqrt, min_samples_leaf=2, min_samples_split=2, n_estimators=577; total time=   5.8s\n",
      "[CV] END bootstrap=True, max_depth=110, max_features=sqrt, min_samples_leaf=4, min_samples_split=10, n_estimators=577; total time=   5.3s\n",
      "[CV] END bootstrap=True, max_depth=110, max_features=sqrt, min_samples_leaf=4, min_samples_split=10, n_estimators=577; total time=   5.2s\n",
      "[CV] END bootstrap=True, max_depth=110, max_features=sqrt, min_samples_leaf=4, min_samples_split=10, n_estimators=577; total time=   5.2s\n",
      "[CV] END bootstrap=True, max_depth=21, max_features=auto, min_samples_leaf=2, min_samples_split=2, n_estimators=155; total time=   1.5s\n",
      "[CV] END bootstrap=True, max_depth=21, max_features=auto, min_samples_leaf=2, min_samples_split=2, n_estimators=155; total time=   1.4s\n",
      "[CV] END bootstrap=True, max_depth=21, max_features=auto, min_samples_leaf=2, min_samples_split=2, n_estimators=155; total time=   1.4s\n",
      "[CV] END bootstrap=False, max_depth=87, max_features=sqrt, min_samples_leaf=2, min_samples_split=5, n_estimators=788; total time=  10.5s\n",
      "[CV] END bootstrap=False, max_depth=87, max_features=sqrt, min_samples_leaf=2, min_samples_split=5, n_estimators=788; total time=  10.3s\n",
      "[CV] END bootstrap=False, max_depth=87, max_features=sqrt, min_samples_leaf=2, min_samples_split=5, n_estimators=788; total time=  10.3s\n",
      "[CV] END bootstrap=True, max_depth=110, max_features=auto, min_samples_leaf=1, min_samples_split=10, n_estimators=155; total time=   1.5s\n",
      "[CV] END bootstrap=True, max_depth=110, max_features=auto, min_samples_leaf=1, min_samples_split=10, n_estimators=155; total time=   1.5s\n",
      "[CV] END bootstrap=True, max_depth=110, max_features=auto, min_samples_leaf=1, min_samples_split=10, n_estimators=155; total time=   1.5s\n",
      "[CV] END bootstrap=False, max_depth=76, max_features=auto, min_samples_leaf=4, min_samples_split=2, n_estimators=1000; total time=  12.5s\n",
      "[CV] END bootstrap=False, max_depth=76, max_features=auto, min_samples_leaf=4, min_samples_split=2, n_estimators=1000; total time=  12.2s\n",
      "[CV] END bootstrap=False, max_depth=76, max_features=auto, min_samples_leaf=4, min_samples_split=2, n_estimators=1000; total time=  12.4s\n",
      "[CV] END bootstrap=True, max_depth=10, max_features=auto, min_samples_leaf=1, min_samples_split=5, n_estimators=472; total time=   4.0s\n",
      "[CV] END bootstrap=True, max_depth=10, max_features=auto, min_samples_leaf=1, min_samples_split=5, n_estimators=472; total time=   4.0s\n",
      "[CV] END bootstrap=True, max_depth=10, max_features=auto, min_samples_leaf=1, min_samples_split=5, n_estimators=472; total time=   3.9s\n",
      "[CV] END bootstrap=False, max_depth=54, max_features=sqrt, min_samples_leaf=2, min_samples_split=2, n_estimators=50; total time=   0.6s\n",
      "[CV] END bootstrap=False, max_depth=54, max_features=sqrt, min_samples_leaf=2, min_samples_split=2, n_estimators=50; total time=   0.6s\n",
      "[CV] END bootstrap=False, max_depth=54, max_features=sqrt, min_samples_leaf=2, min_samples_split=2, n_estimators=50; total time=   0.6s\n",
      "[CV] END bootstrap=True, max_depth=None, max_features=sqrt, min_samples_leaf=1, min_samples_split=10, n_estimators=261; total time=   2.5s\n",
      "[CV] END bootstrap=True, max_depth=None, max_features=sqrt, min_samples_leaf=1, min_samples_split=10, n_estimators=261; total time=   2.5s\n",
      "[CV] END bootstrap=True, max_depth=None, max_features=sqrt, min_samples_leaf=1, min_samples_split=10, n_estimators=261; total time=   2.5s\n",
      "[CV] END bootstrap=False, max_depth=32, max_features=sqrt, min_samples_leaf=4, min_samples_split=5, n_estimators=50; total time=   0.5s\n",
      "[CV] END bootstrap=False, max_depth=32, max_features=sqrt, min_samples_leaf=4, min_samples_split=5, n_estimators=50; total time=   0.5s\n",
      "[CV] END bootstrap=False, max_depth=32, max_features=sqrt, min_samples_leaf=4, min_samples_split=5, n_estimators=50; total time=   0.5s\n",
      "[CV] END bootstrap=False, max_depth=21, max_features=sqrt, min_samples_leaf=1, min_samples_split=5, n_estimators=894; total time=  12.2s\n",
      "[CV] END bootstrap=False, max_depth=21, max_features=sqrt, min_samples_leaf=1, min_samples_split=5, n_estimators=894; total time=  12.1s\n",
      "[CV] END bootstrap=False, max_depth=21, max_features=sqrt, min_samples_leaf=1, min_samples_split=5, n_estimators=894; total time=  12.2s\n",
      "[CV] END bootstrap=False, max_depth=87, max_features=sqrt, min_samples_leaf=2, min_samples_split=2, n_estimators=155; total time=   2.0s\n",
      "[CV] END bootstrap=False, max_depth=87, max_features=sqrt, min_samples_leaf=2, min_samples_split=2, n_estimators=155; total time=   2.0s\n",
      "[CV] END bootstrap=False, max_depth=87, max_features=sqrt, min_samples_leaf=2, min_samples_split=2, n_estimators=155; total time=   2.0s\n"
     ]
    },
    {
     "name": "stdout",
     "output_type": "stream",
     "text": [
      "[CV] END bootstrap=False, max_depth=10, max_features=auto, min_samples_leaf=1, min_samples_split=10, n_estimators=366; total time=   3.7s\n",
      "[CV] END bootstrap=False, max_depth=10, max_features=auto, min_samples_leaf=1, min_samples_split=10, n_estimators=366; total time=   3.7s\n",
      "[CV] END bootstrap=False, max_depth=10, max_features=auto, min_samples_leaf=1, min_samples_split=10, n_estimators=366; total time=   3.7s\n",
      "[CV] END bootstrap=False, max_depth=None, max_features=auto, min_samples_leaf=1, min_samples_split=5, n_estimators=50; total time=   0.6s\n",
      "[CV] END bootstrap=False, max_depth=None, max_features=auto, min_samples_leaf=1, min_samples_split=5, n_estimators=50; total time=   0.6s\n",
      "[CV] END bootstrap=False, max_depth=None, max_features=auto, min_samples_leaf=1, min_samples_split=5, n_estimators=50; total time=   0.6s\n",
      "[CV] END bootstrap=True, max_depth=65, max_features=auto, min_samples_leaf=1, min_samples_split=5, n_estimators=261; total time=   2.6s\n",
      "[CV] END bootstrap=True, max_depth=65, max_features=auto, min_samples_leaf=1, min_samples_split=5, n_estimators=261; total time=   2.6s\n",
      "[CV] END bootstrap=True, max_depth=65, max_features=auto, min_samples_leaf=1, min_samples_split=5, n_estimators=261; total time=   2.6s\n",
      "[CV] END bootstrap=True, max_depth=21, max_features=auto, min_samples_leaf=4, min_samples_split=2, n_estimators=50; total time=   0.4s\n",
      "[CV] END bootstrap=True, max_depth=21, max_features=auto, min_samples_leaf=4, min_samples_split=2, n_estimators=50; total time=   0.4s\n",
      "[CV] END bootstrap=True, max_depth=21, max_features=auto, min_samples_leaf=4, min_samples_split=2, n_estimators=50; total time=   0.4s\n",
      "[CV] END bootstrap=True, max_depth=54, max_features=sqrt, min_samples_leaf=1, min_samples_split=2, n_estimators=894; total time=   9.4s\n",
      "[CV] END bootstrap=True, max_depth=54, max_features=sqrt, min_samples_leaf=1, min_samples_split=2, n_estimators=894; total time=   9.3s\n",
      "[CV] END bootstrap=True, max_depth=54, max_features=sqrt, min_samples_leaf=1, min_samples_split=2, n_estimators=894; total time=   9.3s\n",
      "[CV] END bootstrap=True, max_depth=54, max_features=sqrt, min_samples_leaf=4, min_samples_split=10, n_estimators=788; total time=   8.1s\n",
      "[CV] END bootstrap=True, max_depth=54, max_features=sqrt, min_samples_leaf=4, min_samples_split=10, n_estimators=788; total time=   7.3s\n",
      "[CV] END bootstrap=True, max_depth=54, max_features=sqrt, min_samples_leaf=4, min_samples_split=10, n_estimators=788; total time=   7.2s\n",
      "[CV] END bootstrap=True, max_depth=54, max_features=auto, min_samples_leaf=1, min_samples_split=10, n_estimators=472; total time=   4.7s\n",
      "[CV] END bootstrap=True, max_depth=54, max_features=auto, min_samples_leaf=1, min_samples_split=10, n_estimators=472; total time=   4.6s\n",
      "[CV] END bootstrap=True, max_depth=54, max_features=auto, min_samples_leaf=1, min_samples_split=10, n_estimators=472; total time=   4.7s\n",
      "[CV] END bootstrap=True, max_depth=10, max_features=auto, min_samples_leaf=4, min_samples_split=5, n_estimators=50; total time=   0.3s\n",
      "[CV] END bootstrap=True, max_depth=10, max_features=auto, min_samples_leaf=4, min_samples_split=5, n_estimators=50; total time=   0.3s\n",
      "[CV] END bootstrap=True, max_depth=10, max_features=auto, min_samples_leaf=4, min_samples_split=5, n_estimators=50; total time=   0.3s\n",
      "[CV] END bootstrap=True, max_depth=54, max_features=sqrt, min_samples_leaf=1, min_samples_split=5, n_estimators=1000; total time=  10.4s\n",
      "[CV] END bootstrap=True, max_depth=54, max_features=sqrt, min_samples_leaf=1, min_samples_split=5, n_estimators=1000; total time=  10.4s\n",
      "[CV] END bootstrap=True, max_depth=54, max_features=sqrt, min_samples_leaf=1, min_samples_split=5, n_estimators=1000; total time=  10.6s\n",
      "[CV] END bootstrap=False, max_depth=87, max_features=auto, min_samples_leaf=2, min_samples_split=5, n_estimators=894; total time=  12.1s\n",
      "[CV] END bootstrap=False, max_depth=87, max_features=auto, min_samples_leaf=2, min_samples_split=5, n_estimators=894; total time=  11.8s\n",
      "[CV] END bootstrap=False, max_depth=87, max_features=auto, min_samples_leaf=2, min_samples_split=5, n_estimators=894; total time=  11.8s\n",
      "[CV] END bootstrap=True, max_depth=43, max_features=auto, min_samples_leaf=1, min_samples_split=10, n_estimators=894; total time=   9.0s\n",
      "[CV] END bootstrap=True, max_depth=43, max_features=auto, min_samples_leaf=1, min_samples_split=10, n_estimators=894; total time=   9.0s\n",
      "[CV] END bootstrap=True, max_depth=43, max_features=auto, min_samples_leaf=1, min_samples_split=10, n_estimators=894; total time=   9.0s\n",
      "[CV] END bootstrap=True, max_depth=65, max_features=auto, min_samples_leaf=2, min_samples_split=2, n_estimators=261; total time=   2.6s\n",
      "[CV] END bootstrap=True, max_depth=65, max_features=auto, min_samples_leaf=2, min_samples_split=2, n_estimators=261; total time=   2.5s\n",
      "[CV] END bootstrap=True, max_depth=65, max_features=auto, min_samples_leaf=2, min_samples_split=2, n_estimators=261; total time=   2.5s\n",
      "[CV] END bootstrap=False, max_depth=None, max_features=auto, min_samples_leaf=1, min_samples_split=5, n_estimators=1000; total time=  13.9s\n",
      "[CV] END bootstrap=False, max_depth=None, max_features=auto, min_samples_leaf=1, min_samples_split=5, n_estimators=1000; total time=  13.7s\n",
      "[CV] END bootstrap=False, max_depth=None, max_features=auto, min_samples_leaf=1, min_samples_split=5, n_estimators=1000; total time=  13.8s\n",
      "[CV] END bootstrap=True, max_depth=10, max_features=auto, min_samples_leaf=1, min_samples_split=2, n_estimators=894; total time=   7.7s\n",
      "[CV] END bootstrap=True, max_depth=10, max_features=auto, min_samples_leaf=1, min_samples_split=2, n_estimators=894; total time=   7.7s\n",
      "[CV] END bootstrap=True, max_depth=10, max_features=auto, min_samples_leaf=1, min_samples_split=2, n_estimators=894; total time=   7.9s\n",
      "[CV] END bootstrap=False, max_depth=None, max_features=auto, min_samples_leaf=1, min_samples_split=10, n_estimators=788; total time=  10.7s\n",
      "[CV] END bootstrap=False, max_depth=None, max_features=auto, min_samples_leaf=1, min_samples_split=10, n_estimators=788; total time=  10.6s\n",
      "[CV] END bootstrap=False, max_depth=None, max_features=auto, min_samples_leaf=1, min_samples_split=10, n_estimators=788; total time=  10.7s\n",
      "[CV] END bootstrap=True, max_depth=32, max_features=auto, min_samples_leaf=4, min_samples_split=5, n_estimators=894; total time=   8.4s\n",
      "[CV] END bootstrap=True, max_depth=32, max_features=auto, min_samples_leaf=4, min_samples_split=5, n_estimators=894; total time=   8.3s\n",
      "[CV] END bootstrap=True, max_depth=32, max_features=auto, min_samples_leaf=4, min_samples_split=5, n_estimators=894; total time=   8.4s\n",
      "[CV] END bootstrap=True, max_depth=110, max_features=sqrt, min_samples_leaf=4, min_samples_split=2, n_estimators=788; total time=   7.4s\n",
      "[CV] END bootstrap=True, max_depth=110, max_features=sqrt, min_samples_leaf=4, min_samples_split=2, n_estimators=788; total time=   7.3s\n",
      "[CV] END bootstrap=True, max_depth=110, max_features=sqrt, min_samples_leaf=4, min_samples_split=2, n_estimators=788; total time=   7.3s\n",
      "[CV] END bootstrap=False, max_depth=98, max_features=auto, min_samples_leaf=1, min_samples_split=5, n_estimators=1000; total time=  13.9s\n",
      "[CV] END bootstrap=False, max_depth=98, max_features=auto, min_samples_leaf=1, min_samples_split=5, n_estimators=1000; total time=  13.8s\n",
      "[CV] END bootstrap=False, max_depth=98, max_features=auto, min_samples_leaf=1, min_samples_split=5, n_estimators=1000; total time=  14.0s\n",
      "[CV] END bootstrap=False, max_depth=32, max_features=sqrt, min_samples_leaf=2, min_samples_split=5, n_estimators=366; total time=   4.9s\n",
      "[CV] END bootstrap=False, max_depth=32, max_features=sqrt, min_samples_leaf=2, min_samples_split=5, n_estimators=366; total time=   4.8s\n",
      "[CV] END bootstrap=False, max_depth=32, max_features=sqrt, min_samples_leaf=2, min_samples_split=5, n_estimators=366; total time=   4.8s\n",
      "[CV] END bootstrap=True, max_depth=65, max_features=auto, min_samples_leaf=1, min_samples_split=10, n_estimators=1000; total time=  11.2s\n",
      "[CV] END bootstrap=True, max_depth=65, max_features=auto, min_samples_leaf=1, min_samples_split=10, n_estimators=1000; total time=  11.1s\n",
      "[CV] END bootstrap=True, max_depth=65, max_features=auto, min_samples_leaf=1, min_samples_split=10, n_estimators=1000; total time=  10.9s\n"
     ]
    },
    {
     "name": "stdout",
     "output_type": "stream",
     "text": [
      "[CV] END bootstrap=False, max_depth=110, max_features=sqrt, min_samples_leaf=1, min_samples_split=5, n_estimators=50; total time=   0.8s\n",
      "[CV] END bootstrap=False, max_depth=110, max_features=sqrt, min_samples_leaf=1, min_samples_split=5, n_estimators=50; total time=   0.9s\n",
      "[CV] END bootstrap=False, max_depth=110, max_features=sqrt, min_samples_leaf=1, min_samples_split=5, n_estimators=50; total time=   0.8s\n",
      "[CV] END bootstrap=False, max_depth=65, max_features=sqrt, min_samples_leaf=2, min_samples_split=10, n_estimators=683; total time=  10.3s\n",
      "[CV] END bootstrap=False, max_depth=65, max_features=sqrt, min_samples_leaf=2, min_samples_split=10, n_estimators=683; total time=   9.5s\n",
      "[CV] END bootstrap=False, max_depth=65, max_features=sqrt, min_samples_leaf=2, min_samples_split=10, n_estimators=683; total time=  10.1s\n",
      "[CV] END bootstrap=True, max_depth=65, max_features=sqrt, min_samples_leaf=1, min_samples_split=2, n_estimators=1000; total time=  10.7s\n",
      "[CV] END bootstrap=True, max_depth=65, max_features=sqrt, min_samples_leaf=1, min_samples_split=2, n_estimators=1000; total time=  12.9s\n",
      "[CV] END bootstrap=True, max_depth=65, max_features=sqrt, min_samples_leaf=1, min_samples_split=2, n_estimators=1000; total time=  11.7s\n",
      "[CV] END bootstrap=True, max_depth=110, max_features=sqrt, min_samples_leaf=2, min_samples_split=10, n_estimators=577; total time=   7.1s\n",
      "[CV] END bootstrap=True, max_depth=110, max_features=sqrt, min_samples_leaf=2, min_samples_split=10, n_estimators=577; total time=   8.0s\n",
      "[CV] END bootstrap=True, max_depth=110, max_features=sqrt, min_samples_leaf=2, min_samples_split=10, n_estimators=577; total time=   8.4s\n",
      "[CV] END bootstrap=False, max_depth=32, max_features=auto, min_samples_leaf=4, min_samples_split=2, n_estimators=155; total time=   2.5s\n",
      "[CV] END bootstrap=False, max_depth=32, max_features=auto, min_samples_leaf=4, min_samples_split=2, n_estimators=155; total time=   2.4s\n",
      "[CV] END bootstrap=False, max_depth=32, max_features=auto, min_samples_leaf=4, min_samples_split=2, n_estimators=155; total time=   2.1s\n",
      "[CV] END bootstrap=True, max_depth=54, max_features=auto, min_samples_leaf=4, min_samples_split=10, n_estimators=577; total time=   7.3s\n",
      "[CV] END bootstrap=True, max_depth=54, max_features=auto, min_samples_leaf=4, min_samples_split=10, n_estimators=577; total time=   7.9s\n",
      "[CV] END bootstrap=True, max_depth=54, max_features=auto, min_samples_leaf=4, min_samples_split=10, n_estimators=577; total time=   7.5s\n",
      "[CV] END bootstrap=False, max_depth=10, max_features=auto, min_samples_leaf=2, min_samples_split=2, n_estimators=1000; total time=  15.5s\n",
      "[CV] END bootstrap=False, max_depth=10, max_features=auto, min_samples_leaf=2, min_samples_split=2, n_estimators=1000; total time=  16.4s\n",
      "[CV] END bootstrap=False, max_depth=10, max_features=auto, min_samples_leaf=2, min_samples_split=2, n_estimators=1000; total time=  23.8s\n",
      "[CV] END bootstrap=False, max_depth=98, max_features=sqrt, min_samples_leaf=4, min_samples_split=10, n_estimators=894; total time=  14.1s\n",
      "[CV] END bootstrap=False, max_depth=98, max_features=sqrt, min_samples_leaf=4, min_samples_split=10, n_estimators=894; total time=  12.4s\n",
      "[CV] END bootstrap=False, max_depth=98, max_features=sqrt, min_samples_leaf=4, min_samples_split=10, n_estimators=894; total time=  13.2s\n",
      "[CV] END bootstrap=False, max_depth=87, max_features=sqrt, min_samples_leaf=2, min_samples_split=2, n_estimators=50; total time=   1.3s\n",
      "[CV] END bootstrap=False, max_depth=87, max_features=sqrt, min_samples_leaf=2, min_samples_split=2, n_estimators=50; total time=   1.5s\n",
      "[CV] END bootstrap=False, max_depth=87, max_features=sqrt, min_samples_leaf=2, min_samples_split=2, n_estimators=50; total time=   1.3s\n",
      "[CV] END bootstrap=True, max_depth=10, max_features=auto, min_samples_leaf=2, min_samples_split=2, n_estimators=261; total time=   2.9s\n",
      "[CV] END bootstrap=True, max_depth=10, max_features=auto, min_samples_leaf=2, min_samples_split=2, n_estimators=261; total time=   5.4s\n",
      "[CV] END bootstrap=True, max_depth=10, max_features=auto, min_samples_leaf=2, min_samples_split=2, n_estimators=261; total time=   2.7s\n",
      "[CV] END bootstrap=True, max_depth=None, max_features=auto, min_samples_leaf=1, min_samples_split=10, n_estimators=261; total time=   3.2s\n",
      "[CV] END bootstrap=True, max_depth=None, max_features=auto, min_samples_leaf=1, min_samples_split=10, n_estimators=261; total time=   5.9s\n",
      "[CV] END bootstrap=True, max_depth=None, max_features=auto, min_samples_leaf=1, min_samples_split=10, n_estimators=261; total time=   3.8s\n",
      "[CV] END bootstrap=True, max_depth=98, max_features=sqrt, min_samples_leaf=1, min_samples_split=2, n_estimators=261; total time=   4.7s\n",
      "[CV] END bootstrap=True, max_depth=98, max_features=sqrt, min_samples_leaf=1, min_samples_split=2, n_estimators=261; total time=   8.5s\n",
      "[CV] END bootstrap=True, max_depth=98, max_features=sqrt, min_samples_leaf=1, min_samples_split=2, n_estimators=261; total time=  10.1s\n",
      "[CV] END bootstrap=False, max_depth=54, max_features=sqrt, min_samples_leaf=2, min_samples_split=5, n_estimators=577; total time=  20.0s\n",
      "[CV] END bootstrap=False, max_depth=54, max_features=sqrt, min_samples_leaf=2, min_samples_split=5, n_estimators=577; total time=  12.4s\n",
      "[CV] END bootstrap=False, max_depth=54, max_features=sqrt, min_samples_leaf=2, min_samples_split=5, n_estimators=577; total time=  12.2s\n",
      "[CV] END bootstrap=False, max_depth=110, max_features=sqrt, min_samples_leaf=4, min_samples_split=5, n_estimators=683; total time=  11.3s\n",
      "[CV] END bootstrap=False, max_depth=110, max_features=sqrt, min_samples_leaf=4, min_samples_split=5, n_estimators=683; total time=  24.1s\n",
      "[CV] END bootstrap=False, max_depth=110, max_features=sqrt, min_samples_leaf=4, min_samples_split=5, n_estimators=683; total time=  20.0s\n",
      "[CV] END bootstrap=False, max_depth=10, max_features=auto, min_samples_leaf=2, min_samples_split=2, n_estimators=683; total time=  16.3s\n",
      "[CV] END bootstrap=False, max_depth=10, max_features=auto, min_samples_leaf=2, min_samples_split=2, n_estimators=683; total time=  11.3s\n",
      "[CV] END bootstrap=False, max_depth=10, max_features=auto, min_samples_leaf=2, min_samples_split=2, n_estimators=683; total time=  16.7s\n",
      "[CV] END bootstrap=True, max_depth=None, max_features=auto, min_samples_leaf=1, min_samples_split=2, n_estimators=50; total time=   0.5s\n",
      "[CV] END bootstrap=True, max_depth=None, max_features=auto, min_samples_leaf=1, min_samples_split=2, n_estimators=50; total time=   0.6s\n",
      "[CV] END bootstrap=True, max_depth=None, max_features=auto, min_samples_leaf=1, min_samples_split=2, n_estimators=50; total time=   0.5s\n",
      "[CV] END bootstrap=False, max_depth=10, max_features=auto, min_samples_leaf=1, min_samples_split=5, n_estimators=1000; total time=  18.7s\n",
      "[CV] END bootstrap=False, max_depth=10, max_features=auto, min_samples_leaf=1, min_samples_split=5, n_estimators=1000; total time=  16.9s\n",
      "[CV] END bootstrap=False, max_depth=10, max_features=auto, min_samples_leaf=1, min_samples_split=5, n_estimators=1000; total time=  23.4s\n",
      "[CV] END bootstrap=False, max_depth=76, max_features=sqrt, min_samples_leaf=2, min_samples_split=5, n_estimators=577; total time=  19.0s\n",
      "[CV] END bootstrap=False, max_depth=76, max_features=sqrt, min_samples_leaf=2, min_samples_split=5, n_estimators=577; total time=   8.3s\n",
      "[CV] END bootstrap=False, max_depth=76, max_features=sqrt, min_samples_leaf=2, min_samples_split=5, n_estimators=577; total time=   8.2s\n",
      "[CV] END bootstrap=False, max_depth=10, max_features=auto, min_samples_leaf=2, min_samples_split=2, n_estimators=577; total time=   7.3s\n",
      "[CV] END bootstrap=False, max_depth=10, max_features=auto, min_samples_leaf=2, min_samples_split=2, n_estimators=577; total time=  10.1s\n",
      "[CV] END bootstrap=False, max_depth=10, max_features=auto, min_samples_leaf=2, min_samples_split=2, n_estimators=577; total time=   8.5s\n",
      "[CV] END bootstrap=True, max_depth=32, max_features=auto, min_samples_leaf=4, min_samples_split=5, n_estimators=261; total time=   3.5s\n",
      "[CV] END bootstrap=True, max_depth=32, max_features=auto, min_samples_leaf=4, min_samples_split=5, n_estimators=261; total time=   3.8s\n",
      "[CV] END bootstrap=True, max_depth=32, max_features=auto, min_samples_leaf=4, min_samples_split=5, n_estimators=261; total time=   2.9s\n"
     ]
    },
    {
     "name": "stdout",
     "output_type": "stream",
     "text": [
      "[CV] END bootstrap=True, max_depth=76, max_features=auto, min_samples_leaf=2, min_samples_split=5, n_estimators=894; total time=  11.4s\n",
      "[CV] END bootstrap=True, max_depth=76, max_features=auto, min_samples_leaf=2, min_samples_split=5, n_estimators=894; total time=  12.5s\n",
      "[CV] END bootstrap=True, max_depth=76, max_features=auto, min_samples_leaf=2, min_samples_split=5, n_estimators=894; total time=  11.6s\n",
      "[CV] END bootstrap=False, max_depth=54, max_features=auto, min_samples_leaf=4, min_samples_split=10, n_estimators=1000; total time=  16.0s\n",
      "[CV] END bootstrap=False, max_depth=54, max_features=auto, min_samples_leaf=4, min_samples_split=10, n_estimators=1000; total time=  15.5s\n",
      "[CV] END bootstrap=False, max_depth=54, max_features=auto, min_samples_leaf=4, min_samples_split=10, n_estimators=1000; total time=  19.4s\n",
      "[CV] END bootstrap=True, max_depth=None, max_features=sqrt, min_samples_leaf=4, min_samples_split=2, n_estimators=366; total time=   5.7s\n",
      "[CV] END bootstrap=True, max_depth=None, max_features=sqrt, min_samples_leaf=4, min_samples_split=2, n_estimators=366; total time=   6.4s\n",
      "[CV] END bootstrap=True, max_depth=None, max_features=sqrt, min_samples_leaf=4, min_samples_split=2, n_estimators=366; total time=   6.0s\n",
      "[CV] END bootstrap=True, max_depth=32, max_features=sqrt, min_samples_leaf=1, min_samples_split=2, n_estimators=788; total time=  14.3s\n",
      "[CV] END bootstrap=True, max_depth=32, max_features=sqrt, min_samples_leaf=1, min_samples_split=2, n_estimators=788; total time=  15.6s\n",
      "[CV] END bootstrap=True, max_depth=32, max_features=sqrt, min_samples_leaf=1, min_samples_split=2, n_estimators=788; total time=  13.0s\n",
      "[CV] END bootstrap=False, max_depth=110, max_features=sqrt, min_samples_leaf=2, min_samples_split=2, n_estimators=1000; total time=  16.4s\n",
      "[CV] END bootstrap=False, max_depth=110, max_features=sqrt, min_samples_leaf=2, min_samples_split=2, n_estimators=1000; total time=  19.3s\n",
      "[CV] END bootstrap=False, max_depth=110, max_features=sqrt, min_samples_leaf=2, min_samples_split=2, n_estimators=1000; total time=  18.5s\n",
      "[CV] END bootstrap=False, max_depth=21, max_features=sqrt, min_samples_leaf=2, min_samples_split=10, n_estimators=788; total time=  14.5s\n",
      "[CV] END bootstrap=False, max_depth=21, max_features=sqrt, min_samples_leaf=2, min_samples_split=10, n_estimators=788; total time=  17.2s\n",
      "[CV] END bootstrap=False, max_depth=21, max_features=sqrt, min_samples_leaf=2, min_samples_split=10, n_estimators=788; total time=  14.4s\n",
      "[CV] END bootstrap=True, max_depth=54, max_features=auto, min_samples_leaf=2, min_samples_split=2, n_estimators=577; total time=   9.0s\n",
      "[CV] END bootstrap=True, max_depth=54, max_features=auto, min_samples_leaf=2, min_samples_split=2, n_estimators=577; total time=  11.2s\n",
      "[CV] END bootstrap=True, max_depth=54, max_features=auto, min_samples_leaf=2, min_samples_split=2, n_estimators=577; total time=   8.1s\n",
      "[CV] END bootstrap=True, max_depth=110, max_features=sqrt, min_samples_leaf=4, min_samples_split=10, n_estimators=894; total time=  10.6s\n",
      "[CV] END bootstrap=True, max_depth=110, max_features=sqrt, min_samples_leaf=4, min_samples_split=10, n_estimators=894; total time=  10.5s\n",
      "[CV] END bootstrap=True, max_depth=110, max_features=sqrt, min_samples_leaf=4, min_samples_split=10, n_estimators=894; total time=   8.9s\n",
      "[CV] END bootstrap=False, max_depth=76, max_features=auto, min_samples_leaf=2, min_samples_split=2, n_estimators=472; total time=   7.4s\n",
      "[CV] END bootstrap=False, max_depth=76, max_features=auto, min_samples_leaf=2, min_samples_split=2, n_estimators=472; total time=  12.4s\n",
      "[CV] END bootstrap=False, max_depth=76, max_features=auto, min_samples_leaf=2, min_samples_split=2, n_estimators=472; total time=   9.7s\n",
      "[CV] END bootstrap=False, max_depth=87, max_features=auto, min_samples_leaf=4, min_samples_split=10, n_estimators=894; total time=  17.3s\n",
      "[CV] END bootstrap=False, max_depth=87, max_features=auto, min_samples_leaf=4, min_samples_split=10, n_estimators=894; total time=  17.3s\n",
      "[CV] END bootstrap=False, max_depth=87, max_features=auto, min_samples_leaf=4, min_samples_split=10, n_estimators=894; total time=  14.9s\n",
      "[CV] END bootstrap=False, max_depth=10, max_features=sqrt, min_samples_leaf=4, min_samples_split=5, n_estimators=894; total time=  11.3s\n",
      "[CV] END bootstrap=False, max_depth=10, max_features=sqrt, min_samples_leaf=4, min_samples_split=5, n_estimators=894; total time=  11.1s\n",
      "[CV] END bootstrap=False, max_depth=10, max_features=sqrt, min_samples_leaf=4, min_samples_split=5, n_estimators=894; total time=  18.2s\n",
      "[CV] END bootstrap=True, max_depth=87, max_features=auto, min_samples_leaf=4, min_samples_split=5, n_estimators=894; total time=  14.0s\n",
      "[CV] END bootstrap=True, max_depth=87, max_features=auto, min_samples_leaf=4, min_samples_split=5, n_estimators=894; total time=  10.5s\n",
      "[CV] END bootstrap=True, max_depth=87, max_features=auto, min_samples_leaf=4, min_samples_split=5, n_estimators=894; total time=  10.9s\n",
      "[CV] END bootstrap=False, max_depth=21, max_features=sqrt, min_samples_leaf=1, min_samples_split=10, n_estimators=1000; total time=  17.2s\n",
      "[CV] END bootstrap=False, max_depth=21, max_features=sqrt, min_samples_leaf=1, min_samples_split=10, n_estimators=1000; total time=  16.8s\n",
      "[CV] END bootstrap=False, max_depth=21, max_features=sqrt, min_samples_leaf=1, min_samples_split=10, n_estimators=1000; total time=  16.1s\n",
      "[CV] END bootstrap=True, max_depth=32, max_features=auto, min_samples_leaf=2, min_samples_split=10, n_estimators=50; total time=   0.5s\n",
      "[CV] END bootstrap=True, max_depth=32, max_features=auto, min_samples_leaf=2, min_samples_split=10, n_estimators=50; total time=   0.8s\n",
      "[CV] END bootstrap=True, max_depth=32, max_features=auto, min_samples_leaf=2, min_samples_split=10, n_estimators=50; total time=   0.7s\n",
      "[CV] END bootstrap=False, max_depth=21, max_features=auto, min_samples_leaf=1, min_samples_split=5, n_estimators=683; total time=  17.6s\n",
      "[CV] END bootstrap=False, max_depth=21, max_features=auto, min_samples_leaf=1, min_samples_split=5, n_estimators=683; total time=  12.1s\n",
      "[CV] END bootstrap=False, max_depth=21, max_features=auto, min_samples_leaf=1, min_samples_split=5, n_estimators=683; total time=  17.2s\n",
      "[CV] END bootstrap=True, max_depth=10, max_features=sqrt, min_samples_leaf=4, min_samples_split=5, n_estimators=683; total time=   6.3s\n",
      "[CV] END bootstrap=True, max_depth=10, max_features=sqrt, min_samples_leaf=4, min_samples_split=5, n_estimators=683; total time=   6.6s\n",
      "[CV] END bootstrap=True, max_depth=10, max_features=sqrt, min_samples_leaf=4, min_samples_split=5, n_estimators=683; total time=   8.2s\n",
      "[CV] END bootstrap=True, max_depth=98, max_features=auto, min_samples_leaf=2, min_samples_split=10, n_estimators=50; total time=   0.8s\n",
      "[CV] END bootstrap=True, max_depth=98, max_features=auto, min_samples_leaf=2, min_samples_split=10, n_estimators=50; total time=   1.0s\n",
      "[CV] END bootstrap=True, max_depth=98, max_features=auto, min_samples_leaf=2, min_samples_split=10, n_estimators=50; total time=   1.1s\n",
      "[CV] END bootstrap=False, max_depth=65, max_features=auto, min_samples_leaf=1, min_samples_split=2, n_estimators=472; total time=  10.8s\n",
      "[CV] END bootstrap=False, max_depth=65, max_features=auto, min_samples_leaf=1, min_samples_split=2, n_estimators=472; total time=   7.1s\n",
      "[CV] END bootstrap=False, max_depth=65, max_features=auto, min_samples_leaf=1, min_samples_split=2, n_estimators=472; total time=   7.5s\n",
      "[CV] END bootstrap=False, max_depth=110, max_features=auto, min_samples_leaf=1, min_samples_split=10, n_estimators=261; total time=   4.2s\n",
      "[CV] END bootstrap=False, max_depth=110, max_features=auto, min_samples_leaf=1, min_samples_split=10, n_estimators=261; total time=   3.5s\n",
      "[CV] END bootstrap=False, max_depth=110, max_features=auto, min_samples_leaf=1, min_samples_split=10, n_estimators=261; total time=   3.7s\n",
      "[CV] END bootstrap=True, max_depth=43, max_features=sqrt, min_samples_leaf=1, min_samples_split=10, n_estimators=577; total time=   5.8s\n",
      "[CV] END bootstrap=True, max_depth=43, max_features=sqrt, min_samples_leaf=1, min_samples_split=10, n_estimators=577; total time=   5.9s\n",
      "[CV] END bootstrap=True, max_depth=43, max_features=sqrt, min_samples_leaf=1, min_samples_split=10, n_estimators=577; total time=   7.6s\n"
     ]
    },
    {
     "name": "stdout",
     "output_type": "stream",
     "text": [
      "              precision    recall  f1-score   support\n",
      "\n",
      "           0       0.79      0.73      0.76       321\n",
      "           1       0.84      0.90      0.87       624\n",
      "           2       1.00      0.43      0.60        35\n",
      "\n",
      "    accuracy                           0.83       980\n",
      "   macro avg       0.88      0.69      0.74       980\n",
      "weighted avg       0.83      0.83      0.82       980\n",
      "\n"
     ]
    }
   ],
   "source": [
    "# jumlah trees di random forest\n",
    "n_estimators = [int(x) for x in np.linspace(start=50, stop=1000, num=10)]\n",
    "# jumlah setiap split\n",
    "max_features = ['auto', 'sqrt']\n",
    "# jumlah maksimum level tree\n",
    "max_depth = [int(x) for x in np.linspace(10, 110, num=10)] + [None]\n",
    "# jumlah minimum sampel yang diperlukan untuk split node\n",
    "min_samples_split = [2, 5, 10]\n",
    "# jumlah minimum sampel yang diperlukan pada setiap simpul\n",
    "min_samples_leaf = [1, 2, 4]\n",
    "# metode pemilihan sampel untuk melatih setiap tree\n",
    "bootstrap = [True, False]\n",
    "\n",
    "# random grid\n",
    "random_grid = {'n_estimators': n_estimators,\n",
    "              'max_features': max_features,\n",
    "              'max_depth': max_depth,\n",
    "              'min_samples_split': min_samples_split,\n",
    "              'min_samples_leaf': min_samples_leaf,\n",
    "              'bootstrap': bootstrap}\n",
    "\n",
    "rf_optimized = RandomizedSearchCV(estimator=rf, param_distributions=random_grid, n_iter=100, cv=3, verbose=2, random_state=42)\n",
    "\n",
    "\n",
    "rf_optimized.fit(x_train, y_train)\n",
    "pred_optimized = rf_optimized.predict(x_test)\n",
    "print(classification_report(y_test, pred_optimized))"
   ]
  },
  {
   "cell_type": "code",
   "execution_count": 18,
   "metadata": {},
   "outputs": [
    {
     "name": "stdout",
     "output_type": "stream",
     "text": [
      "              precision    recall  f1-score   support\n",
      "\n",
      "           0       0.79      0.73      0.76       321\n",
      "           1       0.84      0.90      0.87       624\n",
      "           2       1.00      0.43      0.60        35\n",
      "\n",
      "    accuracy                           0.83       980\n",
      "   macro avg       0.88      0.69      0.74       980\n",
      "weighted avg       0.83      0.83      0.82       980\n",
      "\n",
      "{'n_estimators': 788, 'min_samples_split': 2, 'min_samples_leaf': 1, 'max_features': 'sqrt', 'max_depth': 32, 'bootstrap': True}\n"
     ]
    }
   ],
   "source": [
    "print(classification_report(y_test, pred_optimized))\n",
    "print(rf_optimized.best_params_)"
   ]
  },
  {
   "cell_type": "code",
   "execution_count": 19,
   "metadata": {},
   "outputs": [
    {
     "data": {
      "text/plain": [
       "0.8032132418184667"
      ]
     },
     "execution_count": 19,
     "metadata": {},
     "output_type": "execute_result"
    }
   ],
   "source": [
    "rfeval = cross_val_score(estimator=rf, X=x_train, y=y_train, cv=10)\n",
    "rfeval.mean()\n"
   ]
  },
  {
   "cell_type": "code",
   "execution_count": 20,
   "metadata": {},
   "outputs": [
    {
     "data": {
      "text/plain": [
       "0.8085736468500443"
      ]
     },
     "execution_count": 20,
     "metadata": {},
     "output_type": "execute_result"
    }
   ],
   "source": [
    "rf_optimized = RandomForestClassifier(n_estimators=50, min_samples_split=2, min_samples_leaf=1, max_features='auto', max_depth=None, bootstrap=True)\n",
    "rf_optimized.fit(x_train, y_train)\n",
    "\n",
    "rfeval = cross_val_score(estimator=rf_optimized, X=x_train, y=y_train, cv=10)\n",
    "rfeval.mean()\n"
   ]
  },
  {
   "cell_type": "code",
   "execution_count": null,
   "metadata": {},
   "outputs": [],
   "source": []
  }
 ],
 "metadata": {
  "kernelspec": {
   "display_name": "Python 3",
   "language": "python",
   "name": "python3"
  },
  "language_info": {
   "codemirror_mode": {
    "name": "ipython",
    "version": 3
   },
   "file_extension": ".py",
   "mimetype": "text/x-python",
   "name": "python",
   "nbconvert_exporter": "python",
   "pygments_lexer": "ipython3",
   "version": "3.8.8"
  }
 },
 "nbformat": 4,
 "nbformat_minor": 2
}
